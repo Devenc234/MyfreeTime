{
 "cells": [
  {
   "cell_type": "markdown",
   "metadata": {},
   "source": [
    "### Python Programming\n",
    "\n",
    "I need help with the following assignment.\n",
    "\n",
    "Design and code a program that considers the prisoner's dilemma. \n",
    "Player1 and the computer have committed a crime and have been caught. \n",
    "You are being held in separate cells so that you cannot communicate with each other. \n",
    "You are both offered a deal by the police and you have to decide what to do independently. \n",
    "\n",
    "Essentially the deal is this. \n",
    "\n",
    "If you confess and your partner denies taking part in the crime, you go to prison for three years and your partner goes to prison for ten years. \n",
    "\n",
    "If your partner confesses and you deny participating in the crime, you go to prison for ten years and your partner go to prison for three years. \n",
    "\n",
    "If you both confess you will serve six years each. \n",
    "\n",
    "If you both deny taking part in the crime, you both go free. \n",
    "\n",
    "This project will work with a 2-dimensional array. Keep track of each game as to who chose what and the outcome. Display your tracking and totals."
   ]
  },
  {
   "cell_type": "code",
   "execution_count": 1,
   "metadata": {},
   "outputs": [
    {
     "data": {
      "text/plain": [
       "['adfsdf', 'sdfd', 'dfewerrto']"
      ]
     },
     "execution_count": 1,
     "metadata": {},
     "output_type": "execute_result"
    }
   ],
   "source": [
    "a = ['adfsdf','sdfd','dfewerrto']\n",
    "a"
   ]
  },
  {
   "cell_type": "code",
   "execution_count": 5,
   "metadata": {},
   "outputs": [
    {
     "name": "stdout",
     "output_type": "stream",
     "text": [
      "Game:0 --> adfsdf\n",
      "Game:1 --> sdfd\n",
      "Game:2 --> dfewerrto\n"
     ]
    }
   ],
   "source": [
    "for i, item in enumerate(a):\n",
    "    print('Game:{} --> {}'.format(i,item))"
   ]
  },
  {
   "cell_type": "code",
   "execution_count": null,
   "metadata": {
    "collapsed": true
   },
   "outputs": [],
   "source": []
  }
 ],
 "metadata": {
  "kernelspec": {
   "display_name": "Python 3",
   "language": "python",
   "name": "python3"
  },
  "language_info": {
   "codemirror_mode": {
    "name": "ipython",
    "version": 3
   },
   "file_extension": ".py",
   "mimetype": "text/x-python",
   "name": "python",
   "nbconvert_exporter": "python",
   "pygments_lexer": "ipython3",
   "version": "3.6.3"
  }
 },
 "nbformat": 4,
 "nbformat_minor": 2
}
