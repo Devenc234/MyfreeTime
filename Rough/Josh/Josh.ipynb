{
 "cells": [
  {
   "cell_type": "markdown",
   "metadata": {},
   "source": [
    "Use the attached partially completed program, \"parts.py\". \n",
    "\n",
    "You will see three lists, a list of parts, a list of their corresponding weights, and a list of their corresponding prices. \n",
    "\n",
    "Zip the lists into one list and print out the results. \n",
    "\n",
    "Then, write a function called getrightparts, which will perform list comprehension on the list of tuples. \n",
    "\n",
    "The getrightparts function will form a list of part tuples that both weigh more than 4 and cost less than 60, then return the resulting parts list. \n",
    "\n",
    "There should be only three parts that meet these requirements. \n",
    "\n",
    "(Hint: There may be several ways of doing this. One way would be to do a list comprehension on the result of another list comprehension.) \n",
    "\n",
    "Back in the main function, print out the resulting list.\n",
    "\n",
    "Create an empty default dictionary for the parts. \n",
    "Then, use enumerate to give each of the parts (returned from the function) an integer part number (used as a key). Then, randomly select one of the three part numbers. Print out the associated part name, weight, and cost."
   ]
  },
  {
   "cell_type": "code",
   "execution_count": 4,
   "metadata": {
    "collapsed": true
   },
   "outputs": [],
   "source": [
    "def main():\n",
    "    parts = [ \"compressor\", \"muffler\", \"condensor\", \"vaporizer\", \"5 inch pipe\", \"10 inch pipe\", \"hose\", \"latch\", \"door\", \"window\" ]    \n",
    "    weights = [ 50, 10, 35, 5, 3, 6, 1, 1, 2, 3 ]\n",
    "    prices = [105.39, 56.79, 227.99, 43.44, 10.27, 20.54, 3.29, 10.79, 7.99, 4.79 ]\n",
    "main()\n",
    "    "
   ]
  },
  {
   "cell_type": "code",
   "execution_count": 61,
   "metadata": {},
   "outputs": [],
   "source": [
    "parts = [ \"compressor\", \"muffler\", \"condensor\", \"vaporizer\", \"5 inch pipe\", \"10 inch pipe\", \"hose\", \"latch\", \"door\", \"window\" ]    \n",
    "weights = [ 50, 10, 35, 5, 3, 6, 1, 1, 2, 3 ]\n",
    "prices = [105.39, 56.79, 227.99, 43.44, 10.27, 20.54, 3.29, 10.79, 7.99, 4.79 ]"
   ]
  },
  {
   "cell_type": "code",
   "execution_count": 67,
   "metadata": {},
   "outputs": [],
   "source": [
    "aa = zip(parts,weights,prices)"
   ]
  },
  {
   "cell_type": "code",
   "execution_count": 68,
   "metadata": {},
   "outputs": [
    {
     "data": {
      "text/plain": [
       "[('compressor', 50, 105.39),\n",
       " ('muffler', 10, 56.79),\n",
       " ('condensor', 35, 227.99),\n",
       " ('vaporizer', 5, 43.44),\n",
       " ('5 inch pipe', 3, 10.27),\n",
       " ('10 inch pipe', 6, 20.54),\n",
       " ('hose', 1, 3.29),\n",
       " ('latch', 1, 10.79),\n",
       " ('door', 2, 7.99),\n",
       " ('window', 3, 4.79)]"
      ]
     },
     "execution_count": 68,
     "metadata": {},
     "output_type": "execute_result"
    }
   ],
   "source": [
    "akn = list(aa)\n",
    "akn"
   ]
  },
  {
   "cell_type": "code",
   "execution_count": 69,
   "metadata": {},
   "outputs": [
    {
     "name": "stdout",
     "output_type": "stream",
     "text": [
      "[('compressor', 50, 105.39), ('muffler', 10, 56.79), ('condensor', 35, 227.99), ('vaporizer', 5, 43.44), ('5 inch pipe', 3, 10.27), ('10 inch pipe', 6, 20.54), ('hose', 1, 3.29), ('latch', 1, 10.79), ('door', 2, 7.99), ('window', 3, 4.79)]\n"
     ]
    }
   ],
   "source": [
    "print(list(akn))"
   ]
  },
  {
   "cell_type": "code",
   "execution_count": 70,
   "metadata": {},
   "outputs": [
    {
     "name": "stdout",
     "output_type": "stream",
     "text": [
      "[('compressor', 50, 105.39), ('muffler', 10, 56.79), ('condensor', 35, 227.99), ('vaporizer', 5, 43.44), ('5 inch pipe', 3, 10.27), ('10 inch pipe', 6, 20.54), ('hose', 1, 3.29), ('latch', 1, 10.79), ('door', 2, 7.99), ('window', 3, 4.79)]\n"
     ]
    }
   ],
   "source": [
    "print(list(akn))"
   ]
  },
  {
   "cell_type": "code",
   "execution_count": 78,
   "metadata": {},
   "outputs": [
    {
     "data": {
      "text/plain": [
       "['muffler', 'vaporizer', '10 inch pipe']"
      ]
     },
     "execution_count": 78,
     "metadata": {},
     "output_type": "execute_result"
    }
   ],
   "source": [
    "df = [ x[0] for i, x in enumerate(akn) if x[1]>4 and x[2]<60 ]\n",
    "df"
   ]
  },
  {
   "cell_type": "code",
   "execution_count": 79,
   "metadata": {},
   "outputs": [
    {
     "name": "stdout",
     "output_type": "stream",
     "text": [
      "['muffler', 'vaporizer', '10 inch pipe']\n"
     ]
    }
   ],
   "source": [
    "print(df)"
   ]
  },
  {
   "cell_type": "code",
   "execution_count": 97,
   "metadata": {},
   "outputs": [],
   "source": [
    "parts = [ \"compressor\", \"muffler\", \"condensor\", \"vaporizer\", \"5 inch pipe\", \"10 inch pipe\", \"hose\", \"latch\", \"door\", \"window\" ]\n",
    "weights = [ 50, 10, 35, 5, 3, 6, 1, 1, 2, 3 ]\n",
    "prices = [105.39, 56.79, 227.99, 43.44, 10.27, 20.54, 3.29, 10.79, 7.99, 4.79 ]\n",
    "    \n",
    "    \n",
    "# Zip the lists into one list and print out the results.\n",
    "    \n",
    "zippedparts = zip(parts,weights,prices)\n",
    "zippedpartlist = list(zippedparts)\n",
    "\n"
   ]
  },
  {
   "cell_type": "code",
   "execution_count": 124,
   "metadata": {
    "collapsed": true
   },
   "outputs": [],
   "source": [
    "\n",
    "\n",
    "# write a function called getrightparts, \n",
    "# which will perform list comprehension on the list of tuples.\n",
    "# The getrightparts function will form a list of part tuples that both weigh more than 4 and cost less than 60, then return the resulting parts list.\n",
    "# There should be only three parts that meet these requirements.\n",
    "def getrightparts(zippedpartlist):\n",
    "    rightpart = [ part for i, part in enumerate(zippedpartlist) if part[1]>4 and part[2]<60 ]\n",
    "    # print(rightpart)\n",
    "    return rightpart\n"
   ]
  },
  {
   "cell_type": "code",
   "execution_count": null,
   "metadata": {
    "collapsed": true
   },
   "outputs": [],
   "source": []
  },
  {
   "cell_type": "code",
   "execution_count": 125,
   "metadata": {},
   "outputs": [
    {
     "data": {
      "text/plain": [
       "[('muffler', 10, 56.79), ('vaporizer', 5, 43.44), ('10 inch pipe', 6, 20.54)]"
      ]
     },
     "execution_count": 125,
     "metadata": {},
     "output_type": "execute_result"
    }
   ],
   "source": [
    "myparts = getrightparts(zippedpartlist)\n",
    "myparts"
   ]
  },
  {
   "cell_type": "code",
   "execution_count": null,
   "metadata": {
    "collapsed": true
   },
   "outputs": [],
   "source": []
  },
  {
   "cell_type": "code",
   "execution_count": 106,
   "metadata": {
    "collapsed": true
   },
   "outputs": [],
   "source": [
    "mydict = {}\n",
    "mydict"
   ]
  },
  {
   "cell_type": "markdown",
   "metadata": {},
   "source": [
    "Back in the main function, print out the resulting list.\n",
    "Create an empty default dictionary for the parts. Then, use enumerate to give each of the parts (returned from the function) an integer part number (used as a key). Then, randomly select one of the three part numbers. Print out the associated part name, weight, and cost."
   ]
  },
  {
   "cell_type": "code",
   "execution_count": 126,
   "metadata": {},
   "outputs": [
    {
     "name": "stdout",
     "output_type": "stream",
     "text": [
      "('muffler', 10, 56.79)\n"
     ]
    }
   ],
   "source": [
    "adf = {k:v for k, v in enumerate(myparts)}\n",
    "adf\n",
    "\n",
    "from random import randint\n",
    "number = randint(0, len(myparts)-1)\n",
    "print(zippedpartlist[number])"
   ]
  },
  {
   "cell_type": "code",
   "execution_count": null,
   "metadata": {
    "collapsed": true
   },
   "outputs": [],
   "source": []
  },
  {
   "cell_type": "code",
   "execution_count": 120,
   "metadata": {},
   "outputs": [
    {
     "name": "stdout",
     "output_type": "stream",
     "text": [
      "1\n"
     ]
    }
   ],
   "source": [
    "\n",
    "print()"
   ]
  },
  {
   "cell_type": "code",
   "execution_count": 121,
   "metadata": {},
   "outputs": [
    {
     "data": {
      "text/plain": [
       "('condensor', 35, 227.99)"
      ]
     },
     "execution_count": 121,
     "metadata": {},
     "output_type": "execute_result"
    }
   ],
   "source": [
    "zippedpartlist[2]"
   ]
  },
  {
   "cell_type": "code",
   "execution_count": 123,
   "metadata": {},
   "outputs": [
    {
     "data": {
      "text/plain": [
       "{0: ('compressor', 50, 105.39),\n",
       " 1: ('muffler', 10, 56.79),\n",
       " 2: ('condensor', 35, 227.99),\n",
       " 3: ('vaporizer', 5, 43.44),\n",
       " 4: ('5 inch pipe', 3, 10.27),\n",
       " 5: ('10 inch pipe', 6, 20.54),\n",
       " 6: ('hose', 1, 3.29),\n",
       " 7: ('latch', 1, 10.79),\n",
       " 8: ('door', 2, 7.99),\n",
       " 9: ('window', 3, 4.79)}"
      ]
     },
     "execution_count": 123,
     "metadata": {},
     "output_type": "execute_result"
    }
   ],
   "source": [
    "adf = {k:v for k, v in enumerate(zippedpartlist)}\n",
    "adf"
   ]
  },
  {
   "cell_type": "code",
   "execution_count": null,
   "metadata": {
    "collapsed": true
   },
   "outputs": [],
   "source": []
  }
 ],
 "metadata": {
  "kernelspec": {
   "display_name": "Python 3",
   "language": "python",
   "name": "python3"
  },
  "language_info": {
   "codemirror_mode": {
    "name": "ipython",
    "version": 3
   },
   "file_extension": ".py",
   "mimetype": "text/x-python",
   "name": "python",
   "nbconvert_exporter": "python",
   "pygments_lexer": "ipython3",
   "version": "3.6.3"
  }
 },
 "nbformat": 4,
 "nbformat_minor": 2
}
